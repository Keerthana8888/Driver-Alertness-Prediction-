{
  "nbformat": 4,
  "nbformat_minor": 0,
  "metadata": {
    "colab": {
      "private_outputs": true,
      "provenance": [],
      "toc_visible": true,
      "authorship_tag": "ABX9TyPjfbf/ogU7mITETQVW+21r",
      "include_colab_link": true
    },
    "kernelspec": {
      "name": "python3",
      "display_name": "Python 3"
    },
    "language_info": {
      "name": "python"
    }
  },
  "cells": [
    {
      "cell_type": "markdown",
      "metadata": {
        "id": "view-in-github",
        "colab_type": "text"
      },
      "source": [
        "<a href=\"https://colab.research.google.com/github/Keerthana8888/Driver-Alertness-Prediction-/blob/main/Code-File/Stay_Alert_Ford.ipynb\" target=\"_parent\"><img src=\"https://colab.research.google.com/assets/colab-badge.svg\" alt=\"Open In Colab\"/></a>"
      ]
    },
    {
      "cell_type": "markdown",
      "source": [
        "# Approach To Data"
      ],
      "metadata": {
        "id": "gzTgfJCrtD_I"
      }
    },
    {
      "cell_type": "markdown",
      "source": [
        "1. Load the data and libraries\n",
        "2. Data Preparation and Data Transformation\n",
        "3. Data Visualization\n",
        "4. Data Analysis\n",
        "   1. Uni Variate\n",
        "   2. Bi- Variate\n",
        "   3. Multi- Variate\n",
        "      1. Classification\n",
        "         1. Logistic Regression\n",
        "         2. Decision Tree\n",
        "         3. Random Forest\n",
        "         4. Boosting\n",
        "5. Evaluate the model\n",
        "6. Apply the model to test data\n",
        "7. Evaluate results using the submission data"
      ],
      "metadata": {
        "id": "QH-XEJWLs5mm"
      }
    },
    {
      "cell_type": "markdown",
      "source": [
        "1. Dataset Name: Ford Stay Alert\n",
        "2. Author: Keertthana R\n",
        "3. Date: 23/02/2024\n",
        "4. Version: 1\n"
      ],
      "metadata": {
        "id": "rqgER_ess5Qq"
      }
    },
    {
      "cell_type": "markdown",
      "source": [
        "# Load Data And Libraries"
      ],
      "metadata": {
        "id": "NtXRRVD9tL3h"
      }
    },
    {
      "cell_type": "code",
      "execution_count": null,
      "metadata": {
        "id": "UIc93ykZor3i"
      },
      "outputs": [],
      "source": [
        "#Standard Libraries\n",
        "import pandas as pd\n",
        "import numpy as np\n",
        "import matplotlib.pyplot as plt\n",
        "import seaborn as sns\n",
        "# Models Selection\n",
        "from sklearn import metrics\n",
        "from sklearn.model_selection import train_test_split\n",
        "from sklearn.linear_model import LogisticRegression\n",
        "from sklearn.tree import DecisionTreeClassifier\n",
        "from sklearn.ensemble import RandomForestClassifier , AdaBoostClassifier , GradientBoostingClassifier\n",
        "from xgboost import XGBClassifier\n",
        "# Evaluators\n",
        "from sklearn.metrics import accuracy_score , classification_report , confusion_matrix"
      ]
    },
    {
      "cell_type": "markdown",
      "source": [
        " **import the zip file**"
      ],
      "metadata": {
        "id": "1BmHWE7AtWte"
      }
    },
    {
      "cell_type": "code",
      "source": [
        "!unzip '/content/stayalert (4).zip'"
      ],
      "metadata": {
        "id": "Pv82iiHFoxkI"
      },
      "execution_count": null,
      "outputs": []
    },
    {
      "cell_type": "code",
      "source": [
        "train = pd.read_csv('/content/fordTrain.csv')\n",
        "test  = pd.read_csv('/content/fordTest.csv')"
      ],
      "metadata": {
        "id": "W8D38DvLplTR"
      },
      "execution_count": null,
      "outputs": []
    },
    {
      "cell_type": "code",
      "source": [
        "train.info()"
      ],
      "metadata": {
        "id": "WrIDJDNMppHZ"
      },
      "execution_count": null,
      "outputs": []
    },
    {
      "cell_type": "code",
      "source": [
        "train.head()"
      ],
      "metadata": {
        "id": "NuFGOF41ptuo"
      },
      "execution_count": null,
      "outputs": []
    },
    {
      "cell_type": "code",
      "source": [
        "train.skew()"
      ],
      "metadata": {
        "id": "7S1_ZfDxx4zF"
      },
      "execution_count": null,
      "outputs": []
    },
    {
      "cell_type": "markdown",
      "source": [
        "# Exploratory Data Analysis"
      ],
      "metadata": {
        "id": "qOnq4cb0tkxi"
      }
    },
    {
      "cell_type": "code",
      "source": [
        "train.describe()"
      ],
      "metadata": {
        "id": "LFsyxBG1pyb_"
      },
      "execution_count": null,
      "outputs": []
    },
    {
      "cell_type": "code",
      "source": [
        "for i in train.columns:\n",
        "  if i not in ['TrialID' , 'ObsNum' , 'IsAlert', 'P8', 'V7' , 'V9']:\n",
        "    plt.figure(figsize=(5,5))\n",
        "    sns.kdeplot(data=train , x= i , hue='IsAlert' , multiple='stack')\n",
        "    plt.title(f\"kdeplot for {i}\")\n",
        "  else:\n",
        "    continue"
      ],
      "metadata": {
        "id": "sgNvxqClp5Qg"
      },
      "execution_count": null,
      "outputs": []
    },
    {
      "cell_type": "markdown",
      "source": [
        "## Uni-Varient"
      ],
      "metadata": {
        "id": "1PenoaEut04j"
      }
    },
    {
      "cell_type": "code",
      "source": [
        "for i in train:\n",
        "    plt.figure(figsize=(5,5))\n",
        "    sns.displot(train[i] , kde = True)\n",
        "    plt.title(f\"displot for {i}\")"
      ],
      "metadata": {
        "id": "AT0Pra0Hp84u"
      },
      "execution_count": null,
      "outputs": []
    },
    {
      "cell_type": "markdown",
      "source": [
        "## Bi-Varient"
      ],
      "metadata": {
        "id": "iGf3cXOMt8mb"
      }
    },
    {
      "cell_type": "code",
      "source": [
        "plt.figure(figsize=(30,30))\n",
        "sns.heatmap(train.corr(), annot=True)"
      ],
      "metadata": {
        "id": "HMiL19NeqYp3"
      },
      "execution_count": null,
      "outputs": []
    },
    {
      "cell_type": "markdown",
      "source": [
        "# Data Preprocessing"
      ],
      "metadata": {
        "id": "7qkb9nHFr-kY"
      }
    },
    {
      "cell_type": "code",
      "source": [
        "y=train['IsAlert']\n",
        "x=train.iloc[:,3:]"
      ],
      "metadata": {
        "id": "gRZ1u7BwrSsb"
      },
      "execution_count": null,
      "outputs": []
    },
    {
      "cell_type": "markdown",
      "source": [
        "# Data Splitting"
      ],
      "metadata": {
        "id": "0UbPnls0sI59"
      }
    },
    {
      "cell_type": "code",
      "source": [
        "x_train, x_test, y_train, y_test = train_test_split(x, y, test_size = 0.2, random_state = 123)"
      ],
      "metadata": {
        "id": "d4bYFiQ5r5FS"
      },
      "execution_count": null,
      "outputs": []
    },
    {
      "cell_type": "code",
      "source": [
        "print(x_train.shape)\n",
        "print(x_test.shape)\n",
        "print(y_train.shape)\n",
        "print(y_test.shape)"
      ],
      "metadata": {
        "id": "jGItKNpRsgU5"
      },
      "execution_count": null,
      "outputs": []
    },
    {
      "cell_type": "markdown",
      "source": [
        "# Multi-Varient"
      ],
      "metadata": {
        "id": "UnEhDvuvuWMo"
      }
    },
    {
      "cell_type": "markdown",
      "source": [
        "## Logistic Regression"
      ],
      "metadata": {
        "id": "YODzogNhugwH"
      }
    },
    {
      "cell_type": "code",
      "source": [
        "log_reg=LogisticRegression(max_iter=1000)\n",
        "log_reg.fit(x_train, y_train)\n",
        "y_hat_train_logreg=log_reg.predict(x_train)\n",
        "y_hat_test_logreg=log_reg.predict(x_test)"
      ],
      "metadata": {
        "id": "RgAU6dPGswOH"
      },
      "execution_count": null,
      "outputs": []
    },
    {
      "cell_type": "code",
      "source": [
        "def model_eval(actual, predicted):\n",
        "  conf_matrix=confusion_matrix(actual,predicted)\n",
        "  acc_score = accuracy_score(actual, predicted)\n",
        "  clas_rep = classification_report(actual, predicted)\n",
        "  print('The Accuracy of the model is: ', round(acc_score,2))\n",
        "  print(conf_matrix)\n",
        "  print(clas_rep)"
      ],
      "metadata": {
        "id": "uAdIttTvvUcN"
      },
      "execution_count": null,
      "outputs": []
    },
    {
      "cell_type": "code",
      "source": [
        "model_eval(y_train, y_hat_train_logreg)"
      ],
      "metadata": {
        "id": "RRS-Mo52wZOH"
      },
      "execution_count": null,
      "outputs": []
    },
    {
      "cell_type": "code",
      "source": [
        "model_eval(y_test, y_hat_test_logreg)"
      ],
      "metadata": {
        "id": "-h9_Jsd9wkMV"
      },
      "execution_count": null,
      "outputs": []
    },
    {
      "cell_type": "markdown",
      "source": [
        "## Decision Tree"
      ],
      "metadata": {
        "id": "Non694Zk1Fzw"
      }
    },
    {
      "cell_type": "code",
      "source": [
        "dtree = DecisionTreeClassifier()\n",
        "dtree.fit(x_train, y_train)"
      ],
      "metadata": {
        "id": "ukXtlf3_xIrY"
      },
      "execution_count": null,
      "outputs": []
    },
    {
      "cell_type": "code",
      "source": [
        "y_hat_train_dtree = dtree.predict(x_train)\n",
        "y_hat_test_dtree = dtree.predict(x_test)"
      ],
      "metadata": {
        "id": "UKuvcfeb0r4q"
      },
      "execution_count": null,
      "outputs": []
    },
    {
      "cell_type": "code",
      "source": [
        "model_eval(y_train , y_hat_train_dtree)"
      ],
      "metadata": {
        "id": "2xECOtGKzrWT"
      },
      "execution_count": null,
      "outputs": []
    },
    {
      "cell_type": "code",
      "source": [
        "model_eval(y_test , y_hat_test_dtree)"
      ],
      "metadata": {
        "id": "erubfJTx0ej4"
      },
      "execution_count": null,
      "outputs": []
    },
    {
      "cell_type": "markdown",
      "source": [
        "## Random Forest"
      ],
      "metadata": {
        "id": "iY_Fk2I503o-"
      }
    },
    {
      "cell_type": "code",
      "source": [
        "rf=RandomForestClassifier()\n",
        "rf.fit(x_train, y_train)"
      ],
      "metadata": {
        "id": "7yChuDFX0hTA"
      },
      "execution_count": null,
      "outputs": []
    },
    {
      "cell_type": "code",
      "source": [
        "y_hat_train_rf=rf.predict(x_train)\n",
        "y_hat_test_rf=rf.predict(x_test)"
      ],
      "metadata": {
        "id": "oDeldKsO1nUR"
      },
      "execution_count": null,
      "outputs": []
    },
    {
      "cell_type": "code",
      "source": [
        "model_eval(y_train, y_hat_train_rf)"
      ],
      "metadata": {
        "id": "rrYkuFoB1zPz"
      },
      "execution_count": null,
      "outputs": []
    },
    {
      "cell_type": "code",
      "source": [
        "model_eval(y_test, y_hat_test_rf)"
      ],
      "metadata": {
        "id": "6xF6uPUq2wfb"
      },
      "execution_count": null,
      "outputs": []
    },
    {
      "cell_type": "markdown",
      "source": [
        "## Feature"
      ],
      "metadata": {
        "id": "FCgrOrEN4F4u"
      }
    },
    {
      "cell_type": "code",
      "source": [
        "importances = rf.feature_importances_"
      ],
      "metadata": {
        "id": "kDkI8nWU2yrU"
      },
      "execution_count": null,
      "outputs": []
    },
    {
      "cell_type": "code",
      "source": [
        "importances_df = pd.DataFrame({'feature': x_train.columns, 'importance': importances})"
      ],
      "metadata": {
        "id": "lc3jjjH54LGN"
      },
      "execution_count": null,
      "outputs": []
    },
    {
      "cell_type": "code",
      "source": [
        "importances_df = importances_df.sort_values('importance', ascending=False)"
      ],
      "metadata": {
        "id": "gSAyhi8Z4Ntu"
      },
      "execution_count": null,
      "outputs": []
    },
    {
      "cell_type": "code",
      "source": [
        "importances_df"
      ],
      "metadata": {
        "id": "2EC8f0vk4T5U"
      },
      "execution_count": null,
      "outputs": []
    },
    {
      "cell_type": "markdown",
      "source": [
        "## AdaBoost"
      ],
      "metadata": {
        "id": "qZsxSr1Z9yw4"
      }
    },
    {
      "cell_type": "code",
      "source": [
        "ada=AdaBoostClassifier()\n",
        "ada.fit(x_train, y_train)"
      ],
      "metadata": {
        "id": "OH1IyRi44XY_"
      },
      "execution_count": null,
      "outputs": []
    },
    {
      "cell_type": "code",
      "source": [
        "y_train_ada=ada.predict(x_train)\n",
        "y_hat_test_ada=ada.predict(x_test)"
      ],
      "metadata": {
        "id": "HeecyoJM-Gmr"
      },
      "execution_count": null,
      "outputs": []
    },
    {
      "cell_type": "code",
      "source": [
        "model_eval(y_train, y_train_ada)"
      ],
      "metadata": {
        "id": "9ov1x17C-isu"
      },
      "execution_count": null,
      "outputs": []
    },
    {
      "cell_type": "code",
      "source": [
        "model_eval(y_test, y_hat_test_ada)"
      ],
      "metadata": {
        "id": "DM_KFvNh-2mX"
      },
      "execution_count": null,
      "outputs": []
    },
    {
      "cell_type": "markdown",
      "source": [
        "## Gradient Boosting"
      ],
      "metadata": {
        "id": "TlyvC1AKBZNs"
      }
    },
    {
      "cell_type": "code",
      "source": [
        "gb=GradientBoostingClassifier(n_estimators=150)\n",
        "gb.fit(x_train, y_train)"
      ],
      "metadata": {
        "id": "60h5ckB6-9oE"
      },
      "execution_count": null,
      "outputs": []
    },
    {
      "cell_type": "code",
      "source": [
        "y_hat_train_gb=gb.predict(x_train)\n",
        "y_hat_test_gb=gb.predict(x_test)"
      ],
      "metadata": {
        "id": "deNKD7r4Bofa"
      },
      "execution_count": null,
      "outputs": []
    },
    {
      "cell_type": "code",
      "source": [
        "model_eval(y_train, y_hat_train_gb)"
      ],
      "metadata": {
        "id": "ZIJZXK32CBxN"
      },
      "execution_count": null,
      "outputs": []
    },
    {
      "cell_type": "code",
      "source": [
        "model_eval(y_test, y_hat_test_gb)"
      ],
      "metadata": {
        "id": "wNd3v7A4CMLx"
      },
      "execution_count": null,
      "outputs": []
    },
    {
      "cell_type": "markdown",
      "source": [
        "## XGBoost"
      ],
      "metadata": {
        "id": "eelW6bR5Pjs_"
      }
    },
    {
      "cell_type": "code",
      "source": [
        "xgb=XGBClassifier(n_estimators=250)\n",
        "xgb.fit(x_train, y_train)"
      ],
      "metadata": {
        "id": "tuAW76fXP8ZQ"
      },
      "execution_count": null,
      "outputs": []
    },
    {
      "cell_type": "code",
      "source": [
        "y_hat_train_xgb=xgb.predict(x_train)\n",
        "y_hat_test_xgb=xgb.predict(x_test)"
      ],
      "metadata": {
        "id": "ATqhk_-DQZAd"
      },
      "execution_count": null,
      "outputs": []
    },
    {
      "cell_type": "code",
      "source": [
        "model_eval(y_train, y_hat_train_xgb)"
      ],
      "metadata": {
        "id": "5lbvKkslQ6Pm"
      },
      "execution_count": null,
      "outputs": []
    },
    {
      "cell_type": "code",
      "source": [
        "model_eval(y_test, y_hat_test_xgb)"
      ],
      "metadata": {
        "id": "w9iw-r4MRE0f"
      },
      "execution_count": null,
      "outputs": []
    },
    {
      "cell_type": "markdown",
      "source": [
        "# Best Model"
      ],
      "metadata": {
        "id": "MVapp2jmXq0r"
      }
    },
    {
      "cell_type": "code",
      "source": [
        "accuracy_table=[['Logistic Regression',round(accuracy_score(y_test , y_hat_test_logreg),2)],\n",
        " ['Decision Tree ', round(accuracy_score(y_test , y_hat_test_dtree),2)],\n",
        "  ['Random Forest' , round(accuracy_score(y_test , y_hat_test_rf))],\n",
        "  ['Ada Boosting' , round(accuracy_score(y_test , y_hat_test_ada))],\n",
        "  ['Gradient Boosting' , round(accuracy_score(y_test , y_hat_test_gb))],\n",
        "  ['XG Boosting' , round(accuracy_score(y_test , y_hat_test_xgb))]]\n",
        "df1 = pd.DataFrame(accuracy_table, columns = ['Model','Test_Accuracy'])\n",
        "print(df1)"
      ],
      "metadata": {
        "id": "huZCRdw0XtZ0"
      },
      "execution_count": null,
      "outputs": []
    },
    {
      "cell_type": "code",
      "source": [
        "confu_metrics = metrics.confusion_matrix(y_test,y_hat_test_rf)\n",
        "\n",
        "df_cm = pd.DataFrame(confu_metrics, index = [i for i in [\"yes\",\"no\"]],\n",
        "                  columns = [i for i in [\"Predict 1\",\"Predict 0\"]])\n",
        "plt.figure(figsize = (7,5))\n",
        "sns.heatmap(df_cm,annot=True,fmt='g' , cmap = 'magma' ,linewidths = 2 , linecolor = 'Black')"
      ],
      "metadata": {
        "id": "V_r9CSseXyAR"
      },
      "execution_count": null,
      "outputs": []
    },
    {
      "cell_type": "markdown",
      "source": [
        "# Application on Test Dataset"
      ],
      "metadata": {
        "id": "xLw2DcPKZ67t"
      }
    },
    {
      "cell_type": "code",
      "source": [
        "test.info()"
      ],
      "metadata": {
        "id": "UuNc9bBraGsh"
      },
      "execution_count": null,
      "outputs": []
    },
    {
      "cell_type": "code",
      "source": [
        "test.head()"
      ],
      "metadata": {
        "id": "u2rkbeLJaJyt"
      },
      "execution_count": null,
      "outputs": []
    },
    {
      "cell_type": "code",
      "source": [
        "x_variable = test.iloc[: , 3:]"
      ],
      "metadata": {
        "id": "y69WvLbyaOhi"
      },
      "execution_count": null,
      "outputs": []
    },
    {
      "cell_type": "code",
      "source": [
        "test['IsAlert'] = rf.predict(x_variable)"
      ],
      "metadata": {
        "id": "Bvq2MWdRaS66"
      },
      "execution_count": null,
      "outputs": []
    },
    {
      "cell_type": "code",
      "source": [
        "test['IsAlert'].head()"
      ],
      "metadata": {
        "id": "QRXUS0-iaTrW"
      },
      "execution_count": null,
      "outputs": []
    },
    {
      "cell_type": "markdown",
      "source": [
        "# Comparing With Solution Set"
      ],
      "metadata": {
        "id": "RzPGC7ZgaYDk"
      }
    },
    {
      "cell_type": "code",
      "source": [
        "solution = pd.read_csv('/content/Solution.csv')"
      ],
      "metadata": {
        "id": "nC-Id9-8acx_"
      },
      "execution_count": null,
      "outputs": []
    },
    {
      "cell_type": "code",
      "source": [
        "solution.head()"
      ],
      "metadata": {
        "id": "QVa8oOaragM8"
      },
      "execution_count": null,
      "outputs": []
    },
    {
      "cell_type": "code",
      "source": [
        "comparison = solution['Prediction'] == test['IsAlert']"
      ],
      "metadata": {
        "id": "oaFT-EWfaia_"
      },
      "execution_count": null,
      "outputs": []
    },
    {
      "cell_type": "code",
      "source": [
        "print(comparison)"
      ],
      "metadata": {
        "id": "kounc1rVakFU"
      },
      "execution_count": null,
      "outputs": []
    }
  ]
}